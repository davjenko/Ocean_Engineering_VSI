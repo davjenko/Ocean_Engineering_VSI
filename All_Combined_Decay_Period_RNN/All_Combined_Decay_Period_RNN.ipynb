{
 "cells": [
  {
   "cell_type": "markdown",
   "id": "7208e87a",
   "metadata": {},
   "source": [
    "## Import Python packages "
   ]
  },
  {
   "cell_type": "code",
   "execution_count": 2,
   "id": "42b68322",
   "metadata": {},
   "outputs": [],
   "source": [
    "import numpy as np\n",
    "import pandas as pd\n",
    "import keras\n",
    "from scipy.constants import g\n",
    "from sklearn.model_selection import GridSearchCV\n",
    "from keras.wrappers.scikit_learn import KerasClassifier, KerasRegressor\n",
    "from sklearn.preprocessing import LabelEncoder\n",
    "from keras.utils import to_categorical\n",
    "import seaborn as sn\n",
    "from sklearn.model_selection import RandomizedSearchCV\n",
    "\n",
    "import tensorflow as tf\n",
    "from scipy.stats import reciprocal\n",
    "\n",
    "from sklearn.inspection import permutation_importance\n",
    "\n",
    "from sklearn.metrics import confusion_matrix\n",
    "from sklearn.metrics import plot_confusion_matrix\n",
    "import catboost\n",
    "from keras import regularizers \n",
    "\n",
    "from sklearn.model_selection import train_test_split\n",
    "from sklearn.preprocessing import StandardScaler\n",
    "from sklearn.pipeline import make_pipeline\n",
    "from sklearn.metrics import mean_squared_error\n",
    "from sklearn.metrics import mean_absolute_error\n",
    "\n",
    "from keras import regularizers \n",
    "from keras.models import Sequential\n",
    "from keras import layers \n",
    "from keras.optimizers import RMSprop\n",
    "from keras.layers import RepeatVector\n",
    "from keras.layers import Dense\n",
    "from keras.layers import LSTM\n",
    "from keras.layers import Flatten\n",
    "from keras.layers import GRU \n",
    "\n",
    "from sklearn.metrics import r2_score\n",
    "\n",
    "from numpy import loadtxt\n",
    "from sklearn.metrics import mean_absolute_percentage_error"
   ]
  },
  {
   "cell_type": "code",
   "execution_count": null,
   "id": "39c47d34",
   "metadata": {},
   "outputs": [],
   "source": [
    "## Load data sets "
   ]
  },
  {
   "cell_type": "code",
   "execution_count": 4,
   "id": "3aac4d87",
   "metadata": {},
   "outputs": [],
   "source": [
    "y_test_combined_B_am = loadtxt('y_test_combined_comb_Tdecay.csv', delimiter=',')\n",
    "X_test_combined_pro = loadtxt(\"X_test_combined_comb_Tdecay_pro.csv\", delimiter=',')\n",
    "X_test_combined_pos = loadtxt(\"X_test_combined_pos.csv\",  delimiter=',')"
   ]
  },
  {
   "cell_type": "code",
   "execution_count": null,
   "id": "4f155a35",
   "metadata": {},
   "outputs": [],
   "source": [
    "### Load Models "
   ]
  },
  {
   "cell_type": "code",
   "execution_count": 6,
   "id": "aca0118c",
   "metadata": {},
   "outputs": [],
   "source": [
    "Best_GRU = tf.keras.models.load_model(\"bestLSTMmodel_T_dec\")\n",
    "Best_LSTM = tf.keras.models.load_model(\"bestGRUmodel_T_dec\")"
   ]
  },
  {
   "cell_type": "code",
   "execution_count": null,
   "id": "a640c3e9",
   "metadata": {},
   "outputs": [],
   "source": [
    "## Format data set for ML model"
   ]
  },
  {
   "cell_type": "code",
   "execution_count": 8,
   "id": "5f879817",
   "metadata": {},
   "outputs": [],
   "source": [
    "this_test_combined = np.zeros((X_test_combined_pro.shape[0],6,7))\n",
    "for i in range(this_test_combined.shape[0]):\n",
    "    for j in range(6):\n",
    "        #aaa= 6+j\n",
    "        this_test_combined[i,j,:] = np.hstack((X_test_combined_pro[i,[0,1,2,3,4,5]],X_test_combined_pos[i,j])) "
   ]
  },
  {
   "cell_type": "code",
   "execution_count": null,
   "id": "56f3987e",
   "metadata": {},
   "outputs": [],
   "source": [
    "## Get model predictions "
   ]
  },
  {
   "cell_type": "code",
   "execution_count": 9,
   "id": "7b8f8992",
   "metadata": {},
   "outputs": [],
   "source": [
    "predict_test = Best_LSTM.predict(this_test_combined)\n",
    "predict_test_gru = Best_GRU.predict(this_test_combined)"
   ]
  },
  {
   "cell_type": "code",
   "execution_count": null,
   "id": "19c66cee",
   "metadata": {},
   "outputs": [],
   "source": [
    "# Get evaluation metrics "
   ]
  },
  {
   "cell_type": "code",
   "execution_count": 10,
   "id": "e7810c11",
   "metadata": {},
   "outputs": [
    {
     "name": "stdout",
     "output_type": "stream",
     "text": [
      "LSTM R2: 0.7961437310226044\n",
      "LSTM MAE: 1.5626796987376295\n",
      "LSTM MAPE: 0.13812604818750016\n",
      "=== === ===\n",
      "GRU R2: 0.7400814185149945\n",
      "GRU MAE: 1.6957174649556637\n",
      "GRU MAPE: 0.1405460051768372\n"
     ]
    }
   ],
   "source": [
    "rscore = r2_score(y_test_combined_B_am,predict_test)\n",
    "print(\"LSTM R2:\", rscore)\n",
    "result_MAE_lstm = mean_absolute_error(y_test_combined_B_am,predict_test)\n",
    "print(\"LSTM MAE:\", result_MAE_lstm)\n",
    "result_MAPE_lstm = mean_absolute_percentage_error(y_test_combined_B_am,predict_test)\n",
    "print(\"LSTM MAPE:\", result_MAPE_lstm)\n",
    "\n",
    "print(\"=== === ===\")\n",
    "\n",
    "rscore_gru = r2_score(y_test_combined_B_am,predict_test_gru)\n",
    "print(\"GRU R2:\", rscore_gru)\n",
    "result_GRU_lstm = mean_absolute_error(y_test_combined_B_am,predict_test_gru)\n",
    "print(\"GRU MAE:\", result_GRU_lstm)\n",
    "result_MAPE_gru = mean_absolute_percentage_error(y_test_combined_B_am,predict_test_gru)\n",
    "print(\"GRU MAPE:\", result_MAPE_gru)"
   ]
  }
 ],
 "metadata": {
  "kernelspec": {
   "display_name": "Python 3",
   "language": "python",
   "name": "python3"
  },
  "language_info": {
   "codemirror_mode": {
    "name": "ipython",
    "version": 3
   },
   "file_extension": ".py",
   "mimetype": "text/x-python",
   "name": "python",
   "nbconvert_exporter": "python",
   "pygments_lexer": "ipython3",
   "version": "3.6.13"
  }
 },
 "nbformat": 4,
 "nbformat_minor": 5
}
