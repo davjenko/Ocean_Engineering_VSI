{
 "cells": [
  {
   "cell_type": "markdown",
   "metadata": {},
   "source": [
    "## Import Python packages "
   ]
  },
  {
   "cell_type": "code",
   "execution_count": 1,
   "metadata": {},
   "outputs": [],
   "source": [
    "import numpy as np\n",
    "import pandas as pd\n",
    "\n",
    "from sklearn.metrics import mean_absolute_error\n",
    "from sklearn.metrics import mean_absolute_percentage_error\n",
    "from sklearn.metrics import r2_score\n",
    "\n",
    "import seaborn as sns\n",
    "import matplotlib\n",
    "import matplotlib.pyplot as plt\n",
    "from matplotlib import rc\n",
    "from sklearn.preprocessing import StandardScaler\n",
    "from numpy import loadtxt\n",
    "import pickle"
   ]
  },
  {
   "cell_type": "markdown",
   "metadata": {},
   "source": [
    "## Load transformed testing data "
   ]
  },
  {
   "cell_type": "code",
   "execution_count": 2,
   "metadata": {},
   "outputs": [],
   "source": [
    "# load test data \n",
    "X_test_combined_B_am = loadtxt('X_test_combined_comb_am.csv', delimiter=',')\n",
    "y_test_combined_B_am = loadtxt('y_test_combined_comb_am.csv', delimiter=',')"
   ]
  },
  {
   "cell_type": "markdown",
   "metadata": {},
   "source": [
    "## Import model"
   ]
  },
  {
   "cell_type": "code",
   "execution_count": 3,
   "metadata": {},
   "outputs": [],
   "source": [
    "# Load model \n",
    "filename = 'Combined_allangles_am_best_cat.sav'\n",
    "loaded_model = pickle.load(open(filename, 'rb'))"
   ]
  },
  {
   "cell_type": "markdown",
   "metadata": {},
   "source": [
    "## Get test set predictions and give evaluation metrics"
   ]
  },
  {
   "cell_type": "code",
   "execution_count": 4,
   "metadata": {},
   "outputs": [
    {
     "name": "stdout",
     "output_type": "stream",
     "text": [
      "MAPE: 0.1585738523606745\n",
      "===\n",
      "MAE: 0.047636614523832985\n",
      "===\n",
      "R2: 0.9676351403113923\n"
     ]
    }
   ],
   "source": [
    "y_pred_test = loaded_model.predict(X_test_combined_B_am)\n",
    "\n",
    "mape = mean_absolute_percentage_error(y_test_combined_B_am,y_pred_test)\n",
    "mae = mean_absolute_error(y_test_combined_B_am,y_pred_test)\n",
    "r2 = r2_score(y_test_combined_B_am,y_pred_test)\n",
    "\n",
    "print(\"MAPE:\", mape)\n",
    "print(\"===\")\n",
    "print(\"MAE:\", mae)\n",
    "print(\"===\")\n",
    "print(\"R2:\", r2)"
   ]
  },
  {
   "cell_type": "markdown",
   "metadata": {},
   "source": [
    "## Produce error histogram"
   ]
  },
  {
   "cell_type": "code",
   "execution_count": 5,
   "metadata": {},
   "outputs": [
    {
     "name": "stderr",
     "output_type": "stream",
     "text": [
      "C:\\Users\\phy3jenkid\\Anaconda3\\lib\\site-packages\\seaborn\\distributions.py:2619: FutureWarning: `distplot` is a deprecated function and will be removed in a future version. Please adapt your code to use either `displot` (a figure-level function with similar flexibility) or `histplot` (an axes-level function for histograms).\n",
      "  warnings.warn(msg, FutureWarning)\n"
     ]
    },
    {
     "data": {
      "image/png": "[encoded data removed]",
      "text/plain": [
       "<Figure size 432x288 with 1 Axes>"
      ]
     },
     "metadata": {
      "needs_background": "light"
     },
     "output_type": "display_data"
    }
   ],
   "source": [
    "residuals = y_test_combined_B_am - y_pred_test \n",
    "\n",
    "plt.rcParams['text.usetex'] = True\n",
    "plt.rcParams['font.family'] = 'DeJavu Serif'\n",
    "\n",
    "fig, ax = plt.subplots()\n",
    "sns.distplot(residuals, bins = 20, hist=True,kde=False,color=\"k\") # you may select the no. of bins\n",
    "x_thing = np.zeros((100,1))\n",
    "y_thing = np.linspace(0,40,100)\n",
    "plt.xlim([-0.32,0.32])\n",
    "plt.ylim([0,37])\n",
    "#plt.title('Error Terms', fontsize=20)     \n",
    "\n",
    "plt.xlabel(r'Errors of $a_{M} / h$ predictions', fontsize = 13) # r'Observed $a_{M} / h $'\n",
    "plt.ylabel('Frequency', fontsize = 13)\n",
    "\n",
    "ax.plot(x_thing, y_thing, \"--\", alpha=0.75,color=\"grey\")\n",
    "matplotlib.pyplot.text(0.0225,0.97,\"(a)\",\n",
    "                       horizontalalignment='left', verticalalignment='top', fontsize=14, transform = ax.transAxes)\n",
    "#plt.savefig(\"error_hist_amp.jpg\", dpi=1200,bbox_inches=\"tight\")\n",
    "plt.show()"
   ]
  },
  {
   "cell_type": "markdown",
   "metadata": {},
   "source": [
    "## Create predicted versus observed plot"
   ]
  },
  {
   "cell_type": "code",
   "execution_count": 6,
   "metadata": {},
   "outputs": [],
   "source": [
    "def make_QQ_pred_FWU(X_test_combined,y_test_combined,predictions_combined_grid_search):\n",
    "    plt.rcParams['text.usetex'] = True\n",
    "    plt.rcParams['font.family'] = 'DeJavu Serif'\n",
    "    fig, ax = plt.subplots()\n",
    "    \n",
    "    plt.rcParams['text.usetex'] = True # \"font.family\": \"Helvetica\"\n",
    "    #plt.rcParams['mathtext.fontset'] = 'cm'\n",
    "    plt.xlabel(r'Observed $a_{M} / h $', fontsize=13)\n",
    "    plt.ylabel(r'Predicted $ a_{M} / h$', fontsize=13)\n",
    "    \n",
    "    plt.xlim([0,2.7])\n",
    "    plt.ylim([0,2.7])\n",
    "    \n",
    "    \n",
    "    for label in (ax.get_xticklabels() + ax.get_yticklabels()):\n",
    "        label.set_fontsize(13)  \n",
    "    max_val = float(np.amax(y_test_combined))\n",
    "    O = np.linspace(0,max_val + 0.5,1000)\n",
    "    plt.plot(O,O, color = 'k')\n",
    "    \n",
    "    count_gran = 0\n",
    "    count_2dsolid = 0\n",
    "    count_3dsolid = 0\n",
    "    \n",
    "   \n",
    "            \n",
    "    for i in range(X_test_combined.shape[0]):    #[F,S,M,(2or3),solid/gran (gran = 0, solid = 1),prop angle]\n",
    "        if X_test_combined[i,4] == 0: \n",
    "            count_gran += 1 \n",
    "        elif X_test_combined[i,3] == 0 and X_test_combined[i,4] == 1:\n",
    "            count_2dsolid += 1 \n",
    "        elif X_test_combined[i,3] == 1:\n",
    "            count_3dsolid += 1 \n",
    "          \n",
    "            \n",
    "\n",
    "        \n",
    "    print(count_gran,count_2dsolid,count_3dsolid)\n",
    "    \n",
    "    ys_count_gran = np.zeros((count_gran,1))\n",
    "    ys_count_gran_preds = np.zeros((count_gran,1))\n",
    "    \n",
    "    ys_count_2dsolid = np.zeros((count_2dsolid,1))\n",
    "    ys_count_2dsolid_preds = np.zeros((count_2dsolid,1))\n",
    "    \n",
    "    ys_count_3dsolid = np.zeros((count_3dsolid,1))\n",
    "    ys_count_3dsolid_preds = np.zeros((count_3dsolid,1))\n",
    "    \n",
    "\n",
    "\n",
    "    count_gran_c = 0\n",
    "    count_2dsolid_c = 0\n",
    "    count_3dsolid_c = 0\n",
    "        \n",
    "    for i in range(X_test_combined.shape[0]):    #[F,S,M,(2or3),solid/gran,prop angle]\n",
    "        if X_test_combined[i,4] == 0: \n",
    "            ys_count_gran[count_gran_c] = y_test_combined[i]\n",
    "            ys_count_gran_preds[count_gran_c] = predictions_combined_grid_search[i]\n",
    "            count_gran_c += 1\n",
    "        elif X_test_combined[i,3] == 0 and X_test_combined[i,4] == 1:\n",
    "            ys_count_2dsolid[count_2dsolid_c] = y_test_combined[i]\n",
    "            ys_count_2dsolid_preds[count_2dsolid_c] = predictions_combined_grid_search[i]\n",
    "            count_2dsolid_c += 1 \n",
    "        elif X_test_combined[i,3] == 1 and X_test_combined[i,4] == 1:\n",
    "            ys_count_3dsolid[count_3dsolid_c] = y_test_combined[i]\n",
    "            ys_count_3dsolid_preds[count_3dsolid_c] = predictions_combined_grid_search[i]\n",
    "            count_3dsolid_c += 1 \n",
    "    \n",
    "    print(ys_count_gran.shape,ys_count_2dsolid, ys_count_3dsolid.shape)\n",
    "    \n",
    "    ax.plot(ys_count_gran , ys_count_gran_preds, \"x\", color = 'dimgray' , label = '2D granular slides')\n",
    "    ax.plot(ys_count_2dsolid , ys_count_2dsolid_preds, \".\", color = 'dimgray' , label = '2D block slides')\n",
    "    ax.plot(ys_count_3dsolid ,ys_count_3dsolid_preds, \"^\", color = 'dimgray' , label = '3D block slides')\n",
    "    \n",
    "    matplotlib.pyplot.text(0.0225,0.97,\"(a)\", horizontalalignment='left', verticalalignment='top', fontsize=13, transform = ax.transAxes)\n",
    "    ax.legend(fontsize=13, loc=\"lower right\",facecolor='lightgrey')\n",
    "    #plt.savefig(\"13combpaper_newer_a.jpg\", dpi=1200,bbox_inches=\"tight\")\n",
    "    plt.show()"
   ]
  },
  {
   "cell_type": "code",
   "execution_count": 7,
   "metadata": {
    "scrolled": true
   },
   "outputs": [
    {
     "name": "stdout",
     "output_type": "stream",
     "text": [
      "43 35 22\n",
      "(43, 1) [[0.15541667]\n",
      " [0.146875  ]\n",
      " [0.14604167]\n",
      " [0.65083333]\n",
      " [0.113125  ]\n",
      " [0.53      ]\n",
      " [0.10683333]\n",
      " [0.40966667]\n",
      " [0.14933333]\n",
      " [0.407     ]\n",
      " [0.11266667]\n",
      " [0.14966667]\n",
      " [0.13183333]\n",
      " [0.284     ]\n",
      " [0.30466667]\n",
      " [0.103     ]\n",
      " [0.1005    ]\n",
      " [0.10666667]\n",
      " [0.23433333]\n",
      " [0.0965    ]\n",
      " [0.42533333]\n",
      " [0.138     ]\n",
      " [0.42333333]\n",
      " [0.17783333]\n",
      " [0.09866667]\n",
      " [0.13383333]\n",
      " [0.10083333]\n",
      " [0.09866667]\n",
      " [0.435     ]\n",
      " [0.32766667]\n",
      " [0.134     ]\n",
      " [0.13366667]\n",
      " [0.253     ]\n",
      " [0.34233333]\n",
      " [0.11933333]] (22, 1)\n"
     ]
    },
    {
     "data": {
      "image/png": "[encoded data removed]",
      "text/plain": [
       "<Figure size 432x288 with 1 Axes>"
      ]
     },
     "metadata": {
      "needs_background": "light"
     },
     "output_type": "display_data"
    }
   ],
   "source": [
    "make_QQ_pred_FWU(X_test_combined_B_am ,y_test_combined_B_am,y_pred_test)"
   ]
  }
 ],
 "metadata": {
  "kernelspec": {
   "display_name": "Python 3",
   "language": "python",
   "name": "python3"
  },
  "language_info": {
   "codemirror_mode": {
    "name": "ipython",
    "version": 3
   },
   "file_extension": ".py",
   "mimetype": "text/x-python",
   "name": "python",
   "nbconvert_exporter": "python",
   "pygments_lexer": "ipython3",
   "version": "3.6.10"
  }
 },
 "nbformat": 4,
 "nbformat_minor": 4
}
