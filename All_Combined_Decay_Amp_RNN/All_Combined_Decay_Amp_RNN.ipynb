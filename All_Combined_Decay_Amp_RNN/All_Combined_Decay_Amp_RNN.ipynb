{
 "cells": [
  {
   "cell_type": "markdown",
   "id": "555c1e73",
   "metadata": {},
   "source": [
    "## Import Python packages "
   ]
  },
  {
   "cell_type": "code",
   "execution_count": 1,
   "id": "7cc492bf",
   "metadata": {
    "scrolled": true
   },
   "outputs": [
    {
     "name": "stderr",
     "output_type": "stream",
     "text": [
      "Using TensorFlow backend.\n",
      "C:\\Users\\User\\anaconda3\\lib\\site-packages\\tensorflow\\python\\framework\\dtypes.py:516: FutureWarning: Passing (type, 1) or '1type' as a synonym of type is deprecated; in a future version of numpy, it will be understood as (type, (1,)) / '(1,)type'.\n",
      "  _np_qint8 = np.dtype([(\"qint8\", np.int8, 1)])\n",
      "C:\\Users\\User\\anaconda3\\lib\\site-packages\\tensorflow\\python\\framework\\dtypes.py:517: FutureWarning: Passing (type, 1) or '1type' as a synonym of type is deprecated; in a future version of numpy, it will be understood as (type, (1,)) / '(1,)type'.\n",
      "  _np_quint8 = np.dtype([(\"quint8\", np.uint8, 1)])\n",
      "C:\\Users\\User\\anaconda3\\lib\\site-packages\\tensorflow\\python\\framework\\dtypes.py:518: FutureWarning: Passing (type, 1) or '1type' as a synonym of type is deprecated; in a future version of numpy, it will be understood as (type, (1,)) / '(1,)type'.\n",
      "  _np_qint16 = np.dtype([(\"qint16\", np.int16, 1)])\n",
      "C:\\Users\\User\\anaconda3\\lib\\site-packages\\tensorflow\\python\\framework\\dtypes.py:519: FutureWarning: Passing (type, 1) or '1type' as a synonym of type is deprecated; in a future version of numpy, it will be understood as (type, (1,)) / '(1,)type'.\n",
      "  _np_quint16 = np.dtype([(\"quint16\", np.uint16, 1)])\n",
      "C:\\Users\\User\\anaconda3\\lib\\site-packages\\tensorflow\\python\\framework\\dtypes.py:520: FutureWarning: Passing (type, 1) or '1type' as a synonym of type is deprecated; in a future version of numpy, it will be understood as (type, (1,)) / '(1,)type'.\n",
      "  _np_qint32 = np.dtype([(\"qint32\", np.int32, 1)])\n",
      "C:\\Users\\User\\anaconda3\\lib\\site-packages\\tensorflow\\python\\framework\\dtypes.py:525: FutureWarning: Passing (type, 1) or '1type' as a synonym of type is deprecated; in a future version of numpy, it will be understood as (type, (1,)) / '(1,)type'.\n",
      "  np_resource = np.dtype([(\"resource\", np.ubyte, 1)])\n",
      "C:\\Users\\User\\anaconda3\\lib\\site-packages\\tensorboard\\compat\\tensorflow_stub\\dtypes.py:541: FutureWarning: Passing (type, 1) or '1type' as a synonym of type is deprecated; in a future version of numpy, it will be understood as (type, (1,)) / '(1,)type'.\n",
      "  _np_qint8 = np.dtype([(\"qint8\", np.int8, 1)])\n",
      "C:\\Users\\User\\anaconda3\\lib\\site-packages\\tensorboard\\compat\\tensorflow_stub\\dtypes.py:542: FutureWarning: Passing (type, 1) or '1type' as a synonym of type is deprecated; in a future version of numpy, it will be understood as (type, (1,)) / '(1,)type'.\n",
      "  _np_quint8 = np.dtype([(\"quint8\", np.uint8, 1)])\n",
      "C:\\Users\\User\\anaconda3\\lib\\site-packages\\tensorboard\\compat\\tensorflow_stub\\dtypes.py:543: FutureWarning: Passing (type, 1) or '1type' as a synonym of type is deprecated; in a future version of numpy, it will be understood as (type, (1,)) / '(1,)type'.\n",
      "  _np_qint16 = np.dtype([(\"qint16\", np.int16, 1)])\n",
      "C:\\Users\\User\\anaconda3\\lib\\site-packages\\tensorboard\\compat\\tensorflow_stub\\dtypes.py:544: FutureWarning: Passing (type, 1) or '1type' as a synonym of type is deprecated; in a future version of numpy, it will be understood as (type, (1,)) / '(1,)type'.\n",
      "  _np_quint16 = np.dtype([(\"quint16\", np.uint16, 1)])\n",
      "C:\\Users\\User\\anaconda3\\lib\\site-packages\\tensorboard\\compat\\tensorflow_stub\\dtypes.py:545: FutureWarning: Passing (type, 1) or '1type' as a synonym of type is deprecated; in a future version of numpy, it will be understood as (type, (1,)) / '(1,)type'.\n",
      "  _np_qint32 = np.dtype([(\"qint32\", np.int32, 1)])\n",
      "C:\\Users\\User\\anaconda3\\lib\\site-packages\\tensorboard\\compat\\tensorflow_stub\\dtypes.py:550: FutureWarning: Passing (type, 1) or '1type' as a synonym of type is deprecated; in a future version of numpy, it will be understood as (type, (1,)) / '(1,)type'.\n",
      "  np_resource = np.dtype([(\"resource\", np.ubyte, 1)])\n"
     ]
    }
   ],
   "source": [
    "import numpy as np\n",
    "import pandas as pd\n",
    "import keras\n",
    "from scipy.constants import g\n",
    "from sklearn.model_selection import GridSearchCV\n",
    "from keras.wrappers.scikit_learn import KerasClassifier, KerasRegressor\n",
    "from sklearn.preprocessing import LabelEncoder\n",
    "from keras.utils import to_categorical\n",
    "import seaborn as sn\n",
    "from sklearn.model_selection import RandomizedSearchCV\n",
    "\n",
    "from scipy.stats import reciprocal\n",
    "\n",
    "from sklearn.inspection import permutation_importance\n",
    "\n",
    "from sklearn.metrics import confusion_matrix\n",
    "from sklearn.metrics import plot_confusion_matrix\n",
    "import catboost\n",
    "from keras import regularizers \n",
    "\n",
    "import tensorflow as tf\n",
    "\n",
    "from sklearn.model_selection import train_test_split\n",
    "from sklearn.preprocessing import StandardScaler\n",
    "from sklearn.pipeline import make_pipeline\n",
    "from sklearn.metrics import mean_squared_error\n",
    "from sklearn.metrics import mean_absolute_error\n",
    "\n",
    "from keras import regularizers \n",
    "from keras.models import Sequential\n",
    "from keras import layers \n",
    "from keras.optimizers import RMSprop\n",
    "from keras.layers import RepeatVector\n",
    "from keras.layers import Dense\n",
    "from keras.layers import LSTM\n",
    "from keras.layers import Flatten\n",
    "from keras.layers import GRU \n",
    "\n",
    "from sklearn.metrics import r2_score\n",
    "\n",
    "from numpy import loadtxt\n",
    "from sklearn.metrics import mean_absolute_percentage_error"
   ]
  },
  {
   "cell_type": "markdown",
   "id": "5828ee10",
   "metadata": {},
   "source": [
    "## Load data sets "
   ]
  },
  {
   "cell_type": "code",
   "execution_count": 2,
   "id": "8d4273e5",
   "metadata": {},
   "outputs": [],
   "source": [
    "y_test_combined_B_am = loadtxt('y_test_combined_comb_adecay.csv', delimiter=',')\n",
    "X_test_combined_pro = loadtxt(\"X_test_combined_comb_adecay_pro.csv\", delimiter=',')\n",
    "X_test_combined_pos = loadtxt(\"X_test_combined_pos.csv\",  delimiter=',')"
   ]
  },
  {
   "cell_type": "markdown",
   "id": "b9045f48",
   "metadata": {},
   "source": [
    "### Load Models "
   ]
  },
  {
   "cell_type": "code",
   "execution_count": 3,
   "id": "2e6ed52e",
   "metadata": {},
   "outputs": [],
   "source": [
    "Best_GRU = tf.keras.models.load_model(\"bestLSTMmodel_a_dec\")\n",
    "Best_LSTM = tf.keras.models.load_model(\"bestGRUmodel_a_dec\")"
   ]
  },
  {
   "cell_type": "markdown",
   "id": "39d9f0c0",
   "metadata": {},
   "source": [
    "## Format data set for ML model"
   ]
  },
  {
   "cell_type": "code",
   "execution_count": 4,
   "id": "14d4aea6",
   "metadata": {},
   "outputs": [],
   "source": [
    "this_test_combined = np.zeros((X_test_combined_pro.shape[0],6,7))\n",
    "for i in range(this_test_combined.shape[0]):\n",
    "    for j in range(6):\n",
    "        \n",
    "        this_test_combined[i,j,:] = np.hstack((X_test_combined_pro[i,[0,1,2,3,4,5]],X_test_combined_pos[i,j])) "
   ]
  },
  {
   "cell_type": "markdown",
   "id": "626eac03",
   "metadata": {},
   "source": [
    "## Get model predictions "
   ]
  },
  {
   "cell_type": "code",
   "execution_count": 5,
   "id": "be2a746e",
   "metadata": {},
   "outputs": [],
   "source": [
    "predict_test = Best_LSTM.predict(this_test_combined)\n",
    "predict_test_gru = Best_GRU.predict(this_test_combined)"
   ]
  },
  {
   "cell_type": "markdown",
   "id": "de24199b",
   "metadata": {},
   "source": [
    "# Get evaluation metrics "
   ]
  },
  {
   "cell_type": "code",
   "execution_count": 6,
   "id": "73b0b711",
   "metadata": {},
   "outputs": [
    {
     "name": "stdout",
     "output_type": "stream",
     "text": [
      "LSTM R2: 0.9229475135635833\n",
      "LSTM MAE: 0.05667813408954608\n",
      "LSTM MAPE: 0.37681233487558785\n",
      "=== === ===\n",
      "GRU R2: 0.9294827792643927\n",
      "GRU MAE: 0.05629255816803707\n",
      "GRU MAPE: 0.37253499744564383\n"
     ]
    }
   ],
   "source": [
    "rscore = r2_score(y_test_combined_B_am,predict_test)\n",
    "print(\"LSTM R2:\", rscore)\n",
    "result_MAE_lstm = mean_absolute_error(y_test_combined_B_am,predict_test)\n",
    "print(\"LSTM MAE:\", result_MAE_lstm)\n",
    "result_MAPE_lstm = mean_absolute_percentage_error(y_test_combined_B_am,predict_test)\n",
    "print(\"LSTM MAPE:\", result_MAPE_lstm)\n",
    "\n",
    "print(\"=== === ===\")\n",
    "\n",
    "rscore_gru = r2_score(y_test_combined_B_am,predict_test_gru)\n",
    "print(\"GRU R2:\", rscore_gru)\n",
    "result_GRU_lstm = mean_absolute_error(y_test_combined_B_am,predict_test_gru)\n",
    "print(\"GRU MAE:\", result_GRU_lstm)\n",
    "result_MAPE_gru = mean_absolute_percentage_error(y_test_combined_B_am,predict_test_gru)\n",
    "print(\"GRU MAPE:\", result_MAPE_gru)"
   ]
  },
  {
   "cell_type": "code",
   "execution_count": null,
   "id": "12415bc0",
   "metadata": {},
   "outputs": [],
   "source": []
  }
 ],
 "metadata": {
  "kernelspec": {
   "display_name": "Python 3",
   "language": "python",
   "name": "python3"
  },
  "language_info": {
   "codemirror_mode": {
    "name": "ipython",
    "version": 3
   },
   "file_extension": ".py",
   "mimetype": "text/x-python",
   "name": "python",
   "nbconvert_exporter": "python",
   "pygments_lexer": "ipython3",
   "version": "3.6.13"
  }
 },
 "nbformat": 4,
 "nbformat_minor": 5
}
