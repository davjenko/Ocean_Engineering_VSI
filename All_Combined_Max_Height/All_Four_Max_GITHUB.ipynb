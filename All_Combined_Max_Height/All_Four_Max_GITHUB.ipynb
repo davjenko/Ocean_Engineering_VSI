{
 "cells": [
  {
   "cell_type": "markdown",
   "metadata": {},
   "source": [
    "## Import Python packages "
   ]
  },
  {
   "cell_type": "code",
   "execution_count": 1,
   "metadata": {},
   "outputs": [],
   "source": [
    "import numpy as np\n",
    "import pandas as pd\n",
    "\n",
    "from sklearn.metrics import mean_absolute_error\n",
    "from sklearn.metrics import mean_absolute_percentage_error\n",
    "from sklearn.metrics import r2_score\n",
    "\n",
    "import seaborn as sns\n",
    "import matplotlib\n",
    "import matplotlib.pyplot as plt\n",
    "from matplotlib import rc\n",
    "from sklearn.preprocessing import StandardScaler\n",
    "from numpy import loadtxt\n",
    "import pickle"
   ]
  },
  {
   "cell_type": "markdown",
   "metadata": {},
   "source": [
    "## Load transformed testing data "
   ]
  },
  {
   "cell_type": "code",
   "execution_count": 2,
   "metadata": {
    "scrolled": true
   },
   "outputs": [],
   "source": [
    "X_train_combined_Hm = loadtxt('X_train_combined_comb_Hm.csv', delimiter=',')\n",
    "X_test_combined_Hm = loadtxt('X_test_combined_comb_Hm.csv', delimiter=',')\n",
    "y_train_combined_Hm = loadtxt('y_train_combined_comb_Hm.csv', delimiter=',')\n",
    "y_test_combined_Hm = loadtxt('y_test_combined_comb_Hm.csv', delimiter=',')"
   ]
  },
  {
   "cell_type": "markdown",
   "metadata": {},
   "source": [
    "## Import model"
   ]
  },
  {
   "cell_type": "code",
   "execution_count": 3,
   "metadata": {},
   "outputs": [],
   "source": [
    "filename = 'Combined_allangles_Hm_best_cat.sav'\n",
    "loaded_model = pickle.load(open(filename, 'rb'))"
   ]
  },
  {
   "cell_type": "markdown",
   "metadata": {},
   "source": [
    "## Get test set predictions"
   ]
  },
  {
   "cell_type": "code",
   "execution_count": 4,
   "metadata": {
    "scrolled": true
   },
   "outputs": [],
   "source": [
    "y_pred_test = loaded_model.predict(X_test_combined_Hm)"
   ]
  },
  {
   "cell_type": "markdown",
   "metadata": {},
   "source": [
    "## Give evaluation metrics"
   ]
  },
  {
   "cell_type": "code",
   "execution_count": 5,
   "metadata": {},
   "outputs": [
    {
     "name": "stdout",
     "output_type": "stream",
     "text": [
      "MAPE: 0.18079099726494124\n",
      "===\n",
      "MAE: 0.051183939096343535\n",
      "===\n",
      "R2: 0.9593175836916253\n"
     ]
    }
   ],
   "source": [
    "from sklearn.metrics import mean_absolute_error\n",
    "from sklearn.metrics import mean_absolute_percentage_error\n",
    "mape = mean_absolute_percentage_error(y_test_combined_Hm,y_pred_test)\n",
    "mae = mean_absolute_error(y_test_combined_Hm,y_pred_test)\n",
    "r2 = r2_score(y_test_combined_Hm,y_pred_test)\n",
    "\n",
    "print(\"MAPE:\", mape)\n",
    "print(\"===\")\n",
    "print(\"MAE:\", mae)\n",
    "print(\"===\")\n",
    "print(\"R2:\", r2)"
   ]
  },
  {
   "cell_type": "markdown",
   "metadata": {},
   "source": [
    "## Produce error histogram"
   ]
  },
  {
   "cell_type": "code",
   "execution_count": 6,
   "metadata": {},
   "outputs": [
    {
     "name": "stderr",
     "output_type": "stream",
     "text": [
      "C:\\Users\\phy3jenkid\\Anaconda3\\lib\\site-packages\\seaborn\\distributions.py:2619: FutureWarning: `distplot` is a deprecated function and will be removed in a future version. Please adapt your code to use either `displot` (a figure-level function with similar flexibility) or `histplot` (an axes-level function for histograms).\n",
      "  warnings.warn(msg, FutureWarning)\n"
     ]
    },
    {
     "data": {
      "image/png": "[encoded data removed]",
      "text/plain": [
       "<Figure size 432x288 with 1 Axes>"
      ]
     },
     "metadata": {
      "needs_background": "light"
     },
     "output_type": "display_data"
    }
   ],
   "source": [
    "residuals = y_test_combined_Hm - y_pred_test \n",
    "plt.rcParams['text.usetex'] = True\n",
    "plt.rcParams['font.family'] = 'DeJavu Serif'\n",
    "\n",
    "fig, ax = plt.subplots()\n",
    "sns.distplot(residuals, bins = 20, hist=True,kde=False,color=\"k\") # you may select the no. of bins\n",
    "x_thing = np.zeros((100,1))\n",
    "y_thing = np.linspace(0,40,100)\n",
    "plt.xlim([-0.32,0.32])\n",
    "plt.ylim([0,37])\n",
    "#plt.title('Error Terms', fontsize=20)           \n",
    "plt.xlabel(r'Errors of $H_{M} / h$ predictions', fontsize = 13)\n",
    "plt.ylabel('Number of examples', fontsize = 13)\n",
    "ax.plot(x_thing, y_thing, \"--\", alpha=0.75,color=\"grey\")\n",
    "matplotlib.pyplot.text(0.0225,0.97,\"(b)\",\n",
    "                       horizontalalignment='left', verticalalignment='top', fontsize=14, transform = ax.transAxes)\n",
    "plt.savefig(\"error_hist_height.jpg\", dpi=1200,bbox_inches=\"tight\")\n",
    "plt.show()"
   ]
  },
  {
   "cell_type": "markdown",
   "metadata": {},
   "source": [
    "## Create predicted versus observed plot"
   ]
  },
  {
   "cell_type": "code",
   "execution_count": 7,
   "metadata": {},
   "outputs": [],
   "source": [
    "def make_QQ_pred_FWU_FWU(X_test_combined,y_test_combined,predictions_combined_grid_search):\n",
    "\n",
    "    fig, ax = plt.subplots()\n",
    "    \n",
    "    plt.rcParams['font.family'] = 'DeJavu Serif'\n",
    "    plt.xlabel(r'Observed $H_{M} / h $', fontsize=13)\n",
    "    plt.ylabel(r'Predicted $ H_{M} / h$', fontsize=13)\n",
    "    \n",
    "    plt.xlim([0,1.4])\n",
    "    plt.ylim([0,1.4])\n",
    "    \n",
    "    for label in (ax.get_xticklabels() + ax.get_yticklabels()):\n",
    "        label.set_fontsize(13)  \n",
    "    max_val = float(np.amax(y_test_combined))\n",
    "    O = np.linspace(0,max_val + 0.2,1000)\n",
    "    plt.plot(O,O, color = 'k')\n",
    "    \n",
    "    \n",
    "    count_gran = 0\n",
    "    count_3dgran = 0 \n",
    "    count_2dsolid = 0\n",
    "    count_3dsolid = 0\n",
    "    \n",
    "   \n",
    "            \n",
    "    for i in range(X_test_combined.shape[0]):    #[F,S,M,(2or3),solid/gran (gran = 0, solid = 1),prop angle]\n",
    "        if X_test_combined[i,3] == 0 and X_test_combined[i,4] == 0: \n",
    "            count_gran += 1 \n",
    "        elif X_test_combined[i,3] == 1 and X_test_combined[i,4] == 0:\n",
    "            count_3dgran += 1             \n",
    "        elif X_test_combined[i,3] == 0 and X_test_combined[i,4] == 1:\n",
    "            count_2dsolid += 1 \n",
    "        elif X_test_combined[i,3] == 1 and X_test_combined[i,3] == 1:\n",
    "            count_3dsolid += 1 \n",
    "          \n",
    "            \n",
    "\n",
    "        \n",
    "    print(\"Count each type in results\", count_gran, count_3dgran,count_2dsolid,count_3dsolid)\n",
    "    \n",
    "    ys_count_gran = np.zeros((count_gran,1))\n",
    "    ys_count_gran_preds = np.zeros((count_gran,1))\n",
    "    \n",
    "    ys_count_3dgran = np.zeros((count_3dgran,1))\n",
    "    ys_count_3dgran_preds = np.zeros((count_3dgran,1))\n",
    "    \n",
    "    ys_count_2dsolid = np.zeros((count_2dsolid,1))\n",
    "    ys_count_2dsolid_preds = np.zeros((count_2dsolid,1))\n",
    "    \n",
    "    ys_count_3dsolid = np.zeros((count_3dsolid,1))\n",
    "    ys_count_3dsolid_preds = np.zeros((count_3dsolid,1))\n",
    "    \n",
    "\n",
    "\n",
    "    count_gran_c = 0\n",
    "    count_3dgran_c = 0\n",
    "    count_2dsolid_c = 0\n",
    "    count_3dsolid_c = 0\n",
    "        \n",
    "    for i in range(X_test_combined.shape[0]):    #[F,S,M,(2or3),solid/gran,prop angle]\n",
    "        if X_test_combined[i,3] == 0 and X_test_combined[i,4] == 0: \n",
    "            ys_count_gran[count_gran_c] = y_test_combined[i]\n",
    "            ys_count_gran_preds[count_gran_c] = predictions_combined_grid_search[i]\n",
    "            count_gran_c += 1\n",
    "        elif X_test_combined[i,3] == 1 and X_test_combined[i,4] == 0:\n",
    "            ys_count_3dgran[count_3dgran_c] = y_test_combined[i]\n",
    "            ys_count_3dgran_preds[count_3dgran_c] = predictions_combined_grid_search[i]\n",
    "            count_3dgran_c += 1\n",
    "        elif X_test_combined[i,3] == 0 and X_test_combined[i,4] == 1:\n",
    "            ys_count_2dsolid[count_2dsolid_c] = y_test_combined[i]\n",
    "            ys_count_2dsolid_preds[count_2dsolid_c] = predictions_combined_grid_search[i]\n",
    "            count_2dsolid_c += 1 \n",
    "        elif X_test_combined[i,3] == 1 and X_test_combined[i,4] == 1:\n",
    "            ys_count_3dsolid[count_3dsolid_c] = y_test_combined[i]\n",
    "            ys_count_3dsolid_preds[count_3dsolid_c] = predictions_combined_grid_search[i]\n",
    "            count_3dsolid_c += 1 \n",
    "    \n",
    "    print(ys_count_gran.shape,ys_count_2dsolid, ys_count_3dsolid.shape)\n",
    "    \n",
    "    ax.plot(ys_count_gran , ys_count_gran_preds, \"x\", color = 'dimgray' , label = '2D granular slides')\n",
    "    ax.plot(ys_count_2dsolid , ys_count_2dsolid_preds, \".\", color = 'dimgray' , label = '2D block slides')\n",
    "    ax.plot(ys_count_3dgran , ys_count_3dgran_preds, \"*\", color = 'dimgray' , label = '3D granular slides')\n",
    "    ax.plot(ys_count_3dsolid ,ys_count_3dsolid_preds, \"^\", color = 'dimgray' , label = '3D block slides')\n",
    "    \n",
    "    matplotlib.pyplot.text(0.02,0.97,\"(b)\", horizontalalignment='left', verticalalignment='top', fontsize=13, transform = ax.transAxes)\n",
    "    ax.legend(fontsize=13, loc=\"lower right\",facecolor='lightgrey')\n",
    "    #plt.savefig(\"hallpaper_newer_allfour.jpg\", dpi=1200,bbox_inches=\"tight\")\n",
    "    plt.show()"
   ]
  },
  {
   "cell_type": "code",
   "execution_count": 8,
   "metadata": {
    "scrolled": true
   },
   "outputs": [
    {
     "name": "stdout",
     "output_type": "stream",
     "text": [
      "Count each type in results 43 18 35 22\n",
      "(43, 1) [[1.06916667]\n",
      " [0.76916667]\n",
      " [1.05125   ]\n",
      " [0.69625   ]\n",
      " [0.21708333]\n",
      " [0.33979167]\n",
      " [0.18883333]\n",
      " [0.19533333]\n",
      " [0.66933333]\n",
      " [0.1585    ]\n",
      " [0.15733333]\n",
      " [0.46266667]\n",
      " [0.22      ]\n",
      " [0.15983333]\n",
      " [0.31833333]\n",
      " [0.62866667]\n",
      " [0.69333333]\n",
      " [0.798     ]\n",
      " [0.20766667]\n",
      " [0.55533333]\n",
      " [0.79166667]\n",
      " [0.22883333]\n",
      " [0.25233333]\n",
      " [0.39966667]\n",
      " [0.186     ]\n",
      " [0.343     ]\n",
      " [0.75033333]\n",
      " [0.20166667]\n",
      " [0.25733333]\n",
      " [0.18233333]\n",
      " [0.37633333]\n",
      " [0.27716667]\n",
      " [0.2025    ]\n",
      " [0.1855    ]\n",
      " [0.52866667]] (22, 1)\n"
     ]
    },
    {
     "data": {
      "image/png": "[encoded data removed]",
      "text/plain": [
       "<Figure size 432x288 with 1 Axes>"
      ]
     },
     "metadata": {
      "needs_background": "light"
     },
     "output_type": "display_data"
    }
   ],
   "source": [
    "make_QQ_pred_FWU_FWU(X_test_combined_Hm,y_test_combined_Hm,y_pred_test)"
   ]
  },
  {
   "cell_type": "markdown",
   "metadata": {},
   "source": [
    "## Import the data pre-processing tool trained on the training data"
   ]
  },
  {
   "cell_type": "code",
   "execution_count": 9,
   "metadata": {},
   "outputs": [],
   "source": [
    "with open('scaler.pkl','rb') as f:\n",
    "    data_scaler = pickle.load(f)"
   ]
  },
  {
   "cell_type": "markdown",
   "metadata": {},
   "source": [
    "## Establish Lituya Bay case conditions"
   ]
  },
  {
   "cell_type": "code",
   "execution_count": 10,
   "metadata": {},
   "outputs": [
    {
     "name": "stdout",
     "output_type": "stream",
     "text": [
      "[[ 0.65955408  1.32814566  4.54384304  0.          1.         -0.54910875]]\n"
     ]
    }
   ],
   "source": [
    "LB_case_noProp = np.array((2.66,0.75,6.74,0,1,0)).reshape((1,6))\n",
    "LB_case = np.array((2.66,0.75,6.74,0,1,0)).reshape((1,6))\n",
    "LB_case[:,[0,1,2,5]] = data_scaler.transform(LB_case[:,[0,1,2,5]])\n",
    "print(LB_case)"
   ]
  },
  {
   "cell_type": "markdown",
   "metadata": {},
   "source": [
    "## Make prediction for Lituya Bay case"
   ]
  },
  {
   "cell_type": "code",
   "execution_count": 12,
   "metadata": {},
   "outputs": [
    {
     "name": "stdout",
     "output_type": "stream",
     "text": [
      "The ML model predicts the maximum wave height to be: 166.15 meters.\n"
     ]
    }
   ],
   "source": [
    "print(\"The ML model predicts the maximum wave height to be:\",round(float(loaded_model.predict(LB_case) * 122), 2),\"meters.\")"
   ]
  },
  {
   "cell_type": "code",
   "execution_count": null,
   "metadata": {},
   "outputs": [],
   "source": []
  },
  {
   "cell_type": "code",
   "execution_count": null,
   "metadata": {},
   "outputs": [],
   "source": []
  }
 ],
 "metadata": {
  "kernelspec": {
   "display_name": "Python 3",
   "language": "python",
   "name": "python3"
  },
  "language_info": {
   "codemirror_mode": {
    "name": "ipython",
    "version": 3
   },
   "file_extension": ".py",
   "mimetype": "text/x-python",
   "name": "python",
   "nbconvert_exporter": "python",
   "pygments_lexer": "ipython3",
   "version": "3.6.10"
  }
 },
 "nbformat": 4,
 "nbformat_minor": 4
}
