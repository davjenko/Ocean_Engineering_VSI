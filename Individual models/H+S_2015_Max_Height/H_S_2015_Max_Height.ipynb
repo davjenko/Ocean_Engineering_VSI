{
 "cells": [
  {
   "cell_type": "markdown",
   "id": "7fb0e067",
   "metadata": {},
   "source": [
    "## Import Python packages"
   ]
  },
  {
   "cell_type": "code",
   "execution_count": 1,
   "id": "9854f885",
   "metadata": {},
   "outputs": [],
   "source": [
    "import numpy as np\n",
    "import pandas as pd\n",
    "import matplotlib.pyplot as plt\n",
    "from sklearn.metrics import mean_squared_error\n",
    "from sklearn.metrics import mean_absolute_error\n",
    "from sklearn.metrics import mean_absolute_percentage_error\n",
    "\n",
    "\n",
    "from sklearn.metrics import r2_score\n",
    "\n",
    "import seaborn as sns\n",
    "import matplotlib\n",
    "from matplotlib import rc\n",
    "from numpy import loadtxt\n",
    "import pickle"
   ]
  },
  {
   "cell_type": "markdown",
   "id": "677d1ec5",
   "metadata": {},
   "source": [
    "## Load transformed testing data"
   ]
  },
  {
   "cell_type": "code",
   "execution_count": 2,
   "id": "a7ce6e98",
   "metadata": {},
   "outputs": [],
   "source": [
    "X_train_combined_hm = loadtxt('X_train_combined_3d_hm.csv', delimiter=',')\n",
    "X_test_combined_hm = loadtxt('X_test_combined_3d_hm.csv', delimiter=',')\n",
    "y_train_combined_hm = loadtxt('y_train_combined_3d_hm.csv', delimiter=',')\n",
    "y_test_combined_hm = loadtxt('y_test_combined_3d_hm.csv', delimiter=',')"
   ]
  },
  {
   "cell_type": "markdown",
   "id": "c9adaceb",
   "metadata": {},
   "source": [
    "## Import model"
   ]
  },
  {
   "cell_type": "code",
   "execution_count": 3,
   "id": "af057faa",
   "metadata": {},
   "outputs": [],
   "source": [
    "filename = '3Donly_hm_best.sav'\n",
    "loaded_model = pickle.load(open(filename, 'rb'))"
   ]
  },
  {
   "cell_type": "markdown",
   "id": "c5179138",
   "metadata": {},
   "source": [
    "## Get test set predictions"
   ]
  },
  {
   "cell_type": "code",
   "execution_count": 4,
   "id": "9112efe6",
   "metadata": {},
   "outputs": [],
   "source": [
    "preds = loaded_model.predict(X_test_combined_hm)"
   ]
  },
  {
   "cell_type": "markdown",
   "id": "ab4a4cd2",
   "metadata": {},
   "source": [
    "## Give evaluation metrics"
   ]
  },
  {
   "cell_type": "code",
   "execution_count": 5,
   "id": "ab5eef27",
   "metadata": {},
   "outputs": [
    {
     "name": "stdout",
     "output_type": "stream",
     "text": [
      "MAPE: 0.14991872569451958\n",
      "===\n",
      "MAE: 0.032506845284806296\n",
      "===\n",
      "R2: 0.9773884686725758\n"
     ]
    }
   ],
   "source": [
    "mape = mean_absolute_percentage_error(y_test_combined_hm,preds)\n",
    "mae = mean_absolute_error(y_test_combined_hm,preds)\n",
    "r2 = r2_score(y_test_combined_hm,preds)\n",
    "\n",
    "print(\"MAPE:\", mape)\n",
    "print(\"===\")\n",
    "print(\"MAE:\", mae)\n",
    "print(\"===\")\n",
    "print(\"R2:\", r2)"
   ]
  }
 ],
 "metadata": {
  "kernelspec": {
   "display_name": "Python 3",
   "language": "python",
   "name": "python3"
  },
  "language_info": {
   "codemirror_mode": {
    "name": "ipython",
    "version": 3
   },
   "file_extension": ".py",
   "mimetype": "text/x-python",
   "name": "python",
   "nbconvert_exporter": "python",
   "pygments_lexer": "ipython3",
   "version": "3.6.13"
  }
 },
 "nbformat": 4,
 "nbformat_minor": 5
}
