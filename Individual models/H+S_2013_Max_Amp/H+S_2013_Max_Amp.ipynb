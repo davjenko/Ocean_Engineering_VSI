{
 "cells": [
  {
   "cell_type": "markdown",
   "id": "c999918e",
   "metadata": {},
   "source": [
    "## Import Python packages"
   ]
  },
  {
   "cell_type": "code",
   "execution_count": 1,
   "id": "865f34a8",
   "metadata": {
    "scrolled": true
   },
   "outputs": [],
   "source": [
    "import numpy as np\n",
    "import pandas as pd\n",
    "import matplotlib.pyplot as plt\n",
    "from sklearn.metrics import mean_squared_error\n",
    "from sklearn.metrics import mean_absolute_error\n",
    "from sklearn.metrics import mean_absolute_percentage_error\n",
    "\n",
    "\n",
    "from sklearn.metrics import r2_score\n",
    "\n",
    "import seaborn as sns\n",
    "import matplotlib\n",
    "from matplotlib import rc\n",
    "from numpy import loadtxt\n",
    "import pickle\n",
    "from scipy.constants import g\n",
    "import math \n",
    "from scipy import stats"
   ]
  },
  {
   "cell_type": "markdown",
   "id": "ce753beb",
   "metadata": {},
   "source": [
    "## Load transformed testing data"
   ]
  },
  {
   "cell_type": "code",
   "execution_count": 2,
   "id": "05f8910a",
   "metadata": {},
   "outputs": [],
   "source": [
    "from numpy import loadtxt\n",
    "# load array\n",
    "X_train_combined_13_am = loadtxt('X_train_combined_13_am.csv', delimiter=',')\n",
    "X_test_combined_13_am = loadtxt('X_test_combined_13_am.csv', delimiter=',')\n",
    "y_train_combined_13_am = loadtxt('y_train_combined_13_am.csv', delimiter=',')\n",
    "y_test_combined_13_am = loadtxt('y_test_combined_13_am.csv', delimiter=',')\n",
    "X_train_combined_raw_13_am = loadtxt('X_train_combined_raw_13_am.csv', delimiter=',')\n",
    "X_test_combined_raw_13_am = loadtxt('X_test_combined_raw_13_am.csv', delimiter=',')"
   ]
  },
  {
   "cell_type": "markdown",
   "id": "cf9a7ba7",
   "metadata": {},
   "source": [
    "## Import model"
   ]
  },
  {
   "cell_type": "code",
   "execution_count": 3,
   "id": "eb93b0cd",
   "metadata": {},
   "outputs": [],
   "source": [
    "filename = '13_am_best.sav'\n",
    "loaded_model = pickle.load(open(filename, 'rb'))"
   ]
  },
  {
   "cell_type": "markdown",
   "id": "f78da16d",
   "metadata": {},
   "source": [
    "## Get test set predictions"
   ]
  },
  {
   "cell_type": "code",
   "execution_count": 4,
   "id": "28958631",
   "metadata": {},
   "outputs": [],
   "source": [
    "y_pred_test = loaded_model.predict(X_test_combined_13_am)"
   ]
  },
  {
   "cell_type": "markdown",
   "id": "e14cb222",
   "metadata": {},
   "source": [
    "## Produce empirical equation prediction"
   ]
  },
  {
   "cell_type": "code",
   "execution_count": 5,
   "id": "69b89e5c",
   "metadata": {},
   "outputs": [
    {
     "name": "stdout",
     "output_type": "stream",
     "text": [
      "[0.15511783 0.13940032 0.47781728 0.50551528 0.22919371 0.50686631\n",
      " 0.14379748 0.13898296 0.10188419 0.21167644 0.16747308 0.13112321\n",
      " 0.43029908 0.17449396 0.36185211 0.19786632 0.22057592 0.34312273\n",
      " 0.17225857 0.48938891 0.18062549 0.24912978 0.32798059 0.20712543\n",
      " 0.1593524  0.1292041  0.48861489 0.09867332 0.1724463 ]\n",
      "0.838260973292458\n"
     ]
    }
   ],
   "source": [
    "def Find_P_2013(Example):\n",
    "    P_2013 = Example[0] * (Example[1] ** (1/2)) * (Example[2]** (1/4)) * ((math.cos((6/7) * (math.radians(45)))) ** (1/2))\n",
    "    return P_2013 \n",
    "y_preds_equation = np.zeros(y_pred_test.shape)\n",
    "P_2013_forpreds = np.zeros(y_pred_test.shape)\n",
    "PBOT = np.zeros(y_pred_test.shape)\n",
    "emp_preds_2013 = np.zeros(y_pred_test.shape)\n",
    "for i in range(y_test_combined_13_am.shape[0]):\n",
    "    P_2013_forpreds[i] = Find_P_2013(X_test_combined_raw_13_am[i])\n",
    "    PBOT[i] = P_2013_forpreds[i] * (X_test_combined_raw_13_am[i][3]) * (X_test_combined_raw_13_am[i][4]) * ((X_test_combined_raw_13_am[i][5]) ** 0.5)  \n",
    "    y_preds_equation[i] = (3/4) * ( (PBOT[i]) ** (9/10)  )\n",
    "    \n",
    "print(y_preds_equation)\n",
    "y_preds_equationr2 = r2_score(y_test_combined_13_am,y_preds_equation)\n",
    "print(y_preds_equationr2)"
   ]
  },
  {
   "cell_type": "markdown",
   "id": "3248f7f5",
   "metadata": {},
   "source": [
    "## Give evaluation metrics: ML"
   ]
  },
  {
   "cell_type": "code",
   "execution_count": 6,
   "id": "71f206fd",
   "metadata": {},
   "outputs": [
    {
     "name": "stdout",
     "output_type": "stream",
     "text": [
      "MAPE: 0.08698822968936379\n",
      "===\n",
      "MAE: 0.018677251854837817\n",
      "===\n",
      "R2: 0.9705773949570343\n"
     ]
    }
   ],
   "source": [
    "# GB models\n",
    "from sklearn.metrics import mean_absolute_error\n",
    "from sklearn.metrics import mean_absolute_percentage_error\n",
    "mape = mean_absolute_percentage_error(y_test_combined_13_am,y_pred_test)\n",
    "mae = mean_absolute_error(y_test_combined_13_am,y_pred_test)\n",
    "r2 = r2_score(y_test_combined_13_am,y_pred_test)\n",
    "\n",
    "print(\"MAPE:\", mape)\n",
    "print(\"===\")\n",
    "print(\"MAE:\", mae)\n",
    "print(\"===\")\n",
    "print(\"R2:\", r2)"
   ]
  },
  {
   "cell_type": "markdown",
   "id": "b4e27183",
   "metadata": {},
   "source": [
    "## Give evaluation metrics: EE"
   ]
  },
  {
   "cell_type": "code",
   "execution_count": 7,
   "id": "3fe244f5",
   "metadata": {},
   "outputs": [
    {
     "name": "stdout",
     "output_type": "stream",
     "text": [
      "MAPE_EE: 0.2560766343943075\n",
      "===\n",
      "MAE_EE: 0.04962785851187997\n",
      "===\n",
      "R2_EE: 0.838260973292458\n"
     ]
    }
   ],
   "source": [
    "# EE \n",
    "mape_EE = mean_absolute_percentage_error(y_test_combined_13_am,y_preds_equation)\n",
    "mae_EE = mean_absolute_error(y_test_combined_13_am,y_preds_equation)\n",
    "y_preds_equationr2 = r2_score(y_test_combined_13_am,y_preds_equation)\n",
    "\n",
    "print(\"MAPE_EE:\", mape_EE)\n",
    "print(\"===\")\n",
    "print(\"MAE_EE:\", mae_EE)\n",
    "print(\"===\")\n",
    "print(\"R2_EE:\", y_preds_equationr2)"
   ]
  },
  {
   "cell_type": "code",
   "execution_count": null,
   "id": "278e0e1e",
   "metadata": {},
   "outputs": [],
   "source": []
  },
  {
   "cell_type": "code",
   "execution_count": 8,
   "id": "20f5488d",
   "metadata": {
    "scrolled": true
   },
   "outputs": [
    {
     "name": "stdout",
     "output_type": "stream",
     "text": [
      "[0.00574744 0.00905553 0.04912605 0.00927598 0.03038872 0.0137195\n",
      " 0.01350035 0.00673033 0.01123097 0.00136461 0.02471196 0.00612898\n",
      " 0.01368848 0.01828619 0.00765045 0.00275256 0.02460462 0.01783196\n",
      " 0.01053646 0.02319046 0.03536461 0.02620706 0.02917114 0.00741801\n",
      " 0.01599741 0.01868369 0.0911308  0.00396231 0.01418369] [0.02561783 0.03256699 0.07081728 0.00615138 0.09786038 0.07186631\n",
      " 0.02996415 0.03181629 0.00088419 0.06965689 0.04813974 0.03245654\n",
      " 0.00696575 0.00333938 0.03681455 0.05986632 0.03242408 0.0652106\n",
      " 0.03507476 0.05605558 0.13470784 0.09646311 0.04335275 0.05779209\n",
      " 0.07098093 0.0327041  0.11605177 0.00216001 0.0714463 ]\n",
      "[array([0.00574744, 0.00905553, 0.04912605, 0.00927598, 0.03038872,\n",
      "       0.0137195 , 0.01350035, 0.00673033, 0.01123097, 0.00136461,\n",
      "       0.02471196, 0.00612898, 0.01368848, 0.01828619, 0.00765045,\n",
      "       0.00275256, 0.02460462, 0.01783196, 0.01053646, 0.02319046,\n",
      "       0.03536461, 0.02620706, 0.02917114, 0.00741801, 0.01599741,\n",
      "       0.01868369, 0.0911308 , 0.00396231, 0.01418369]), array([0.02561783, 0.03256699, 0.07081728, 0.00615138, 0.09786038,\n",
      "       0.07186631, 0.02996415, 0.03181629, 0.00088419, 0.06965689,\n",
      "       0.04813974, 0.03245654, 0.00696575, 0.00333938, 0.03681455,\n",
      "       0.05986632, 0.03242408, 0.0652106 , 0.03507476, 0.05605558,\n",
      "       0.13470784, 0.09646311, 0.04335275, 0.05779209, 0.07098093,\n",
      "       0.0327041 , 0.11605177, 0.00216001, 0.0714463 ])]\n"
     ]
    }
   ],
   "source": [
    "\n",
    "\n",
    "ML_errors = abs(y_pred_test - y_test_combined_13_am)\n",
    "EE_errors = abs(y_preds_equation - y_test_combined_13_am)\n",
    "print(ML_errors,EE_errors)\n",
    "\n",
    "both = [ML_errors,EE_errors]\n",
    "print(both)"
   ]
  },
  {
   "cell_type": "code",
   "execution_count": 9,
   "id": "6112cbe3",
   "metadata": {
    "scrolled": true
   },
   "outputs": [
    {
     "name": "stdout",
     "output_type": "stream",
     "text": [
      "[0.04438175 0.08476319 0.12070284 0.01812894 0.23138617 0.03153907\n",
      " 0.11859747 0.06280245 0.11119775 0.0048505  0.20708348 0.06211805\n",
      " 0.032335   0.10282769 0.01919008 0.01994611 0.09725148 0.0436701\n",
      " 0.05081893 0.05351644 0.11214992 0.17166195 0.07855781 0.04967416\n",
      " 0.06945331 0.19361335 0.15071247 0.03929567 0.14043255] [0.19782105 0.30483918 0.17399823 0.01202225 0.74512978 0.1652099\n",
      " 0.26322824 0.2968861  0.00875439 0.24759559 0.40340566 0.32895144\n",
      " 0.01645453 0.01877812 0.0923442  0.43381394 0.12815842 0.15969943\n",
      " 0.16917087 0.12935903 0.42719188 0.63185443 0.11674887 0.38700062\n",
      " 0.30816613 0.33890254 0.19192686 0.02142162 0.70738911]\n",
      "[array([0.04438175, 0.08476319, 0.12070284, 0.01812894, 0.23138617,\n",
      "       0.03153907, 0.11859747, 0.06280245, 0.11119775, 0.0048505 ,\n",
      "       0.20708348, 0.06211805, 0.032335  , 0.10282769, 0.01919008,\n",
      "       0.01994611, 0.09725148, 0.0436701 , 0.05081893, 0.05351644,\n",
      "       0.11214992, 0.17166195, 0.07855781, 0.04967416, 0.06945331,\n",
      "       0.19361335, 0.15071247, 0.03929567, 0.14043255]), array([0.19782105, 0.30483918, 0.17399823, 0.01202225, 0.74512978,\n",
      "       0.1652099 , 0.26322824, 0.2968861 , 0.00875439, 0.24759559,\n",
      "       0.40340566, 0.32895144, 0.01645453, 0.01877812, 0.0923442 ,\n",
      "       0.43381394, 0.12815842, 0.15969943, 0.16917087, 0.12935903,\n",
      "       0.42719188, 0.63185443, 0.11674887, 0.38700062, 0.30816613,\n",
      "       0.33890254, 0.19192686, 0.02142162, 0.70738911])]\n"
     ]
    }
   ],
   "source": [
    "#Find percentage errors#\n",
    "\n",
    "ML_errors_per = (abs(y_pred_test - y_test_combined_13_am)) / y_test_combined_13_am\n",
    "EE_errors_per = (abs(y_preds_equation - y_test_combined_13_am)) / y_test_combined_13_am\n",
    "print(ML_errors_per,EE_errors_per)\n",
    "\n",
    "\n",
    "both_per = [ML_errors_per,EE_errors_per]\n",
    "print(both_per)\n"
   ]
  },
  {
   "cell_type": "code",
   "execution_count": 10,
   "id": "9c3a7749",
   "metadata": {},
   "outputs": [
    {
     "data": {
      "text/plain": [
       "WilcoxonResult(statistic=19.0, pvalue=8.845357896643781e-06)"
      ]
     },
     "execution_count": 10,
     "metadata": {},
     "output_type": "execute_result"
    }
   ],
   "source": [
    "from scipy import stats\n",
    "stats.wilcoxon(ML_errors,EE_errors, alternative = \"less\")"
   ]
  },
  {
   "cell_type": "code",
   "execution_count": 11,
   "id": "acfabf0d",
   "metadata": {},
   "outputs": [
    {
     "data": {
      "text/plain": [
       "WilcoxonResult(statistic=27.0, pvalue=1.900786763442248e-05)"
      ]
     },
     "execution_count": 11,
     "metadata": {},
     "output_type": "execute_result"
    }
   ],
   "source": [
    "stats.wilcoxon(ML_errors_per,EE_errors_per, alternative = \"less\")"
   ]
  },
  {
   "cell_type": "code",
   "execution_count": null,
   "id": "abe306a4",
   "metadata": {},
   "outputs": [],
   "source": []
  }
 ],
 "metadata": {
  "kernelspec": {
   "display_name": "Python 3",
   "language": "python",
   "name": "python3"
  },
  "language_info": {
   "codemirror_mode": {
    "name": "ipython",
    "version": 3
   },
   "file_extension": ".py",
   "mimetype": "text/x-python",
   "name": "python",
   "nbconvert_exporter": "python",
   "pygments_lexer": "ipython3",
   "version": "3.6.13"
  }
 },
 "nbformat": 4,
 "nbformat_minor": 5
}
