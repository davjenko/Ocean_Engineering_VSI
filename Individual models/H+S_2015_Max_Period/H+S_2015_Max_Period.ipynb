{
 "cells": [
  {
   "cell_type": "markdown",
   "id": "3a015f76",
   "metadata": {},
   "source": [
    "## Import Python packages"
   ]
  },
  {
   "cell_type": "code",
   "execution_count": 1,
   "id": "65e12de1",
   "metadata": {},
   "outputs": [],
   "source": [
    "import numpy as np\n",
    "import pandas as pd\n",
    "import matplotlib.pyplot as plt\n",
    "from sklearn.metrics import mean_squared_error\n",
    "from sklearn.metrics import mean_absolute_error\n",
    "from sklearn.metrics import mean_absolute_percentage_error\n",
    "\n",
    "\n",
    "from sklearn.metrics import r2_score\n",
    "\n",
    "import seaborn as sns\n",
    "import matplotlib\n",
    "from matplotlib import rc\n",
    "from numpy import loadtxt\n",
    "import pickle"
   ]
  },
  {
   "cell_type": "markdown",
   "id": "f6b5dc60",
   "metadata": {},
   "source": [
    "## Load transformed testing data"
   ]
  },
  {
   "cell_type": "code",
   "execution_count": 2,
   "id": "9cc0edfc",
   "metadata": {},
   "outputs": [],
   "source": [
    "X_train_combined_Tm = loadtxt('X_train_combined_3d_Tm.csv', delimiter=',')\n",
    "X_test_combined_Tm = loadtxt('X_test_combined_3d_Tm.csv', delimiter=',')\n",
    "y_train_combined_Tm = loadtxt('y_train_combined_3d_Tm.csv', delimiter=',')\n",
    "y_test_combined_Tm = loadtxt('y_test_combined_3d_Tm.csv', delimiter=',')"
   ]
  },
  {
   "cell_type": "markdown",
   "id": "9c6f1eb5",
   "metadata": {},
   "source": [
    "## Import model"
   ]
  },
  {
   "cell_type": "code",
   "execution_count": 3,
   "id": "f3eac378",
   "metadata": {},
   "outputs": [],
   "source": [
    "filename = '3Donly_Tm_best.sav'\n",
    "loaded_model = pickle.load(open(filename, 'rb'))"
   ]
  },
  {
   "cell_type": "markdown",
   "id": "7f9e4e81",
   "metadata": {},
   "source": [
    "## Get test set predictions"
   ]
  },
  {
   "cell_type": "code",
   "execution_count": 4,
   "id": "b9befe28",
   "metadata": {},
   "outputs": [],
   "source": [
    "preds = loaded_model.predict(X_test_combined_Tm)"
   ]
  },
  {
   "cell_type": "markdown",
   "id": "aef9909e",
   "metadata": {},
   "source": [
    "## Give evaluation metrics"
   ]
  },
  {
   "cell_type": "code",
   "execution_count": 5,
   "id": "6d5313db",
   "metadata": {},
   "outputs": [
    {
     "name": "stdout",
     "output_type": "stream",
     "text": [
      "MAPE: 1.0410849595195584\n",
      "===\n",
      "MAE: 0.3432307319270281\n",
      "===\n",
      "R2: 0.7391182285072089\n"
     ]
    }
   ],
   "source": [
    "mape = mean_absolute_percentage_error(y_test_combined_Tm,preds)\n",
    "mae = mean_absolute_error(y_test_combined_Tm,preds)\n",
    "r2 = r2_score(y_test_combined_Tm,preds)\n",
    "\n",
    "print(\"MAPE:\", mape)\n",
    "print(\"===\")\n",
    "print(\"MAE:\", mae)\n",
    "print(\"===\")\n",
    "print(\"R2:\", r2)"
   ]
  }
 ],
 "metadata": {
  "kernelspec": {
   "display_name": "Python 3",
   "language": "python",
   "name": "python3"
  },
  "language_info": {
   "codemirror_mode": {
    "name": "ipython",
    "version": 3
   },
   "file_extension": ".py",
   "mimetype": "text/x-python",
   "name": "python",
   "nbconvert_exporter": "python",
   "pygments_lexer": "ipython3",
   "version": "3.6.13"
  }
 },
 "nbformat": 4,
 "nbformat_minor": 5
}
