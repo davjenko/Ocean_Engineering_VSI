{
 "cells": [
  {
   "cell_type": "markdown",
   "id": "888ee2c2",
   "metadata": {},
   "source": [
    "## Import Python packages"
   ]
  },
  {
   "cell_type": "code",
   "execution_count": 1,
   "id": "f2201ec1",
   "metadata": {
    "scrolled": true
   },
   "outputs": [
    {
     "name": "stderr",
     "output_type": "stream",
     "text": [
      "C:\\Users\\User\\anaconda3\\lib\\site-packages\\tensorflow\\python\\framework\\dtypes.py:516: FutureWarning: Passing (type, 1) or '1type' as a synonym of type is deprecated; in a future version of numpy, it will be understood as (type, (1,)) / '(1,)type'.\n",
      "  _np_qint8 = np.dtype([(\"qint8\", np.int8, 1)])\n",
      "C:\\Users\\User\\anaconda3\\lib\\site-packages\\tensorflow\\python\\framework\\dtypes.py:517: FutureWarning: Passing (type, 1) or '1type' as a synonym of type is deprecated; in a future version of numpy, it will be understood as (type, (1,)) / '(1,)type'.\n",
      "  _np_quint8 = np.dtype([(\"quint8\", np.uint8, 1)])\n",
      "C:\\Users\\User\\anaconda3\\lib\\site-packages\\tensorflow\\python\\framework\\dtypes.py:518: FutureWarning: Passing (type, 1) or '1type' as a synonym of type is deprecated; in a future version of numpy, it will be understood as (type, (1,)) / '(1,)type'.\n",
      "  _np_qint16 = np.dtype([(\"qint16\", np.int16, 1)])\n",
      "C:\\Users\\User\\anaconda3\\lib\\site-packages\\tensorflow\\python\\framework\\dtypes.py:519: FutureWarning: Passing (type, 1) or '1type' as a synonym of type is deprecated; in a future version of numpy, it will be understood as (type, (1,)) / '(1,)type'.\n",
      "  _np_quint16 = np.dtype([(\"quint16\", np.uint16, 1)])\n",
      "C:\\Users\\User\\anaconda3\\lib\\site-packages\\tensorflow\\python\\framework\\dtypes.py:520: FutureWarning: Passing (type, 1) or '1type' as a synonym of type is deprecated; in a future version of numpy, it will be understood as (type, (1,)) / '(1,)type'.\n",
      "  _np_qint32 = np.dtype([(\"qint32\", np.int32, 1)])\n",
      "C:\\Users\\User\\anaconda3\\lib\\site-packages\\tensorflow\\python\\framework\\dtypes.py:525: FutureWarning: Passing (type, 1) or '1type' as a synonym of type is deprecated; in a future version of numpy, it will be understood as (type, (1,)) / '(1,)type'.\n",
      "  np_resource = np.dtype([(\"resource\", np.ubyte, 1)])\n",
      "C:\\Users\\User\\anaconda3\\lib\\site-packages\\tensorboard\\compat\\tensorflow_stub\\dtypes.py:541: FutureWarning: Passing (type, 1) or '1type' as a synonym of type is deprecated; in a future version of numpy, it will be understood as (type, (1,)) / '(1,)type'.\n",
      "  _np_qint8 = np.dtype([(\"qint8\", np.int8, 1)])\n",
      "C:\\Users\\User\\anaconda3\\lib\\site-packages\\tensorboard\\compat\\tensorflow_stub\\dtypes.py:542: FutureWarning: Passing (type, 1) or '1type' as a synonym of type is deprecated; in a future version of numpy, it will be understood as (type, (1,)) / '(1,)type'.\n",
      "  _np_quint8 = np.dtype([(\"quint8\", np.uint8, 1)])\n",
      "C:\\Users\\User\\anaconda3\\lib\\site-packages\\tensorboard\\compat\\tensorflow_stub\\dtypes.py:543: FutureWarning: Passing (type, 1) or '1type' as a synonym of type is deprecated; in a future version of numpy, it will be understood as (type, (1,)) / '(1,)type'.\n",
      "  _np_qint16 = np.dtype([(\"qint16\", np.int16, 1)])\n",
      "C:\\Users\\User\\anaconda3\\lib\\site-packages\\tensorboard\\compat\\tensorflow_stub\\dtypes.py:544: FutureWarning: Passing (type, 1) or '1type' as a synonym of type is deprecated; in a future version of numpy, it will be understood as (type, (1,)) / '(1,)type'.\n",
      "  _np_quint16 = np.dtype([(\"quint16\", np.uint16, 1)])\n",
      "C:\\Users\\User\\anaconda3\\lib\\site-packages\\tensorboard\\compat\\tensorflow_stub\\dtypes.py:545: FutureWarning: Passing (type, 1) or '1type' as a synonym of type is deprecated; in a future version of numpy, it will be understood as (type, (1,)) / '(1,)type'.\n",
      "  _np_qint32 = np.dtype([(\"qint32\", np.int32, 1)])\n",
      "C:\\Users\\User\\anaconda3\\lib\\site-packages\\tensorboard\\compat\\tensorflow_stub\\dtypes.py:550: FutureWarning: Passing (type, 1) or '1type' as a synonym of type is deprecated; in a future version of numpy, it will be understood as (type, (1,)) / '(1,)type'.\n",
      "  np_resource = np.dtype([(\"resource\", np.ubyte, 1)])\n"
     ]
    }
   ],
   "source": [
    "import numpy as np\n",
    "import pandas as pd\n",
    "import matplotlib.pyplot as plt\n",
    "from sklearn.metrics import mean_squared_error\n",
    "from sklearn.metrics import mean_absolute_error\n",
    "from sklearn.metrics import mean_absolute_percentage_error\n",
    "\n",
    "\n",
    "from sklearn.metrics import r2_score\n",
    "from numpy import loadtxt\n",
    "import tensorflow as tf\n",
    "import seaborn as sns\n",
    "import matplotlib\n",
    "from matplotlib import rc\n",
    "from numpy import loadtxt\n",
    "import pickle\n",
    "from scipy.constants import g\n",
    "import math \n",
    "from scipy import stats\n",
    "from sklearn.preprocessing import StandardScaler"
   ]
  },
  {
   "cell_type": "markdown",
   "id": "a27976aa",
   "metadata": {},
   "source": [
    "## Load transformed testing data and models "
   ]
  },
  {
   "cell_type": "code",
   "execution_count": 2,
   "id": "fb000a97",
   "metadata": {
    "scrolled": true
   },
   "outputs": [],
   "source": [
    "### Load arrays ###\n",
    "\n",
    "X_train_combined_T = loadtxt('X_train_combined_T_decay.csv', delimiter=',')\n",
    "X_test_combined_T = loadtxt('X_test_combined_T_decay.csv', delimiter=',')\n",
    "y_train_combined_T = loadtxt('y_train_combined_P10_decay.csv', delimiter=',')\n",
    "y_test_combined_T = loadtxt('y_test_combined_P10_decay.csv', delimiter=',')\n",
    "\n",
    "### Load Models ###\n",
    "\n",
    "Best_GRU = tf.keras.models.load_model(\"bestGRUmodel10\")\n",
    "Best_LSTM = tf.keras.models.load_model(\"bestLSTMmodel10\")"
   ]
  },
  {
   "cell_type": "markdown",
   "id": "ce049922",
   "metadata": {},
   "source": [
    "## Reshape arrays for model"
   ]
  },
  {
   "cell_type": "code",
   "execution_count": 3,
   "id": "6c449eea",
   "metadata": {},
   "outputs": [],
   "source": [
    "X_train_combined_pro = X_train_combined_T.reshape(168,10,1)\n",
    "X_test_combined_pro = X_test_combined_T.reshape(43,10,1)\n"
   ]
  },
  {
   "cell_type": "markdown",
   "id": "eef1cdfa",
   "metadata": {},
   "source": [
    "## Get model predictions "
   ]
  },
  {
   "cell_type": "code",
   "execution_count": 4,
   "id": "a38428d2",
   "metadata": {},
   "outputs": [],
   "source": [
    "predict_test = Best_LSTM.predict(X_test_combined_pro)\n",
    "predict_test_GRU = Best_GRU.predict(X_test_combined_pro)"
   ]
  },
  {
   "cell_type": "markdown",
   "id": "03e6c197",
   "metadata": {},
   "source": [
    "## Get evaluation metrics "
   ]
  },
  {
   "cell_type": "code",
   "execution_count": 5,
   "id": "f7f620e2",
   "metadata": {},
   "outputs": [
    {
     "name": "stdout",
     "output_type": "stream",
     "text": [
      "LSTM MAPE: 0.14242482814106874\n",
      "LSTM MAE: 1.8991893585312154\n",
      "LSTM R2: 0.7489526753096857\n",
      "=== === ===\n",
      "GRU MAPE: 0.13289723666730982\n",
      "GRU MAE: 1.7989863743175636\n",
      "GRU R2 0.7598824380094031\n",
      "=== === ===\n"
     ]
    }
   ],
   "source": [
    "print(\"LSTM MAPE:\", mean_absolute_percentage_error(y_test_combined_T,predict_test))\n",
    "print(\"LSTM MAE:\", mean_absolute_error(y_test_combined_T,predict_test))\n",
    "print(\"LSTM R2:\", r2_score(y_test_combined_T,predict_test))\n",
    "print(\"=== === ===\")\n",
    "print(\"GRU MAPE:\", mean_absolute_percentage_error(y_test_combined_T,predict_test_GRU))\n",
    "print(\"GRU MAE:\", mean_absolute_error(y_test_combined_T,predict_test_GRU ))\n",
    "print(\"GRU R2\", r2_score(y_test_combined_T,predict_test_GRU))\n",
    "print(\"=== === ===\")\n"
   ]
  }
 ],
 "metadata": {
  "kernelspec": {
   "display_name": "Python 3",
   "language": "python",
   "name": "python3"
  },
  "language_info": {
   "codemirror_mode": {
    "name": "ipython",
    "version": 3
   },
   "file_extension": ".py",
   "mimetype": "text/x-python",
   "name": "python",
   "nbconvert_exporter": "python",
   "pygments_lexer": "ipython3",
   "version": "3.6.13"
  }
 },
 "nbformat": 4,
 "nbformat_minor": 5
}
