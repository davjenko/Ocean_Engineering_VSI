{
 "cells": [
  {
   "cell_type": "markdown",
   "id": "27a700da",
   "metadata": {},
   "source": [
    "## Import Python packages"
   ]
  },
  {
   "cell_type": "code",
   "execution_count": 1,
   "id": "f352448a",
   "metadata": {},
   "outputs": [],
   "source": [
    "import numpy as np\n",
    "import pandas as pd\n",
    "import matplotlib.pyplot as plt\n",
    "from sklearn.metrics import mean_squared_error\n",
    "from sklearn.metrics import mean_absolute_error\n",
    "from sklearn.metrics import mean_absolute_percentage_error\n",
    "\n",
    "\n",
    "from sklearn.metrics import r2_score\n",
    "\n",
    "import seaborn as sns\n",
    "import matplotlib\n",
    "from matplotlib import rc\n",
    "from numpy import loadtxt\n",
    "import pickle"
   ]
  },
  {
   "cell_type": "markdown",
   "id": "39a9d360",
   "metadata": {},
   "source": [
    "## Load transformed testing data"
   ]
  },
  {
   "cell_type": "code",
   "execution_count": 2,
   "id": "1e0e0fea",
   "metadata": {},
   "outputs": [],
   "source": [
    "X_train_combined_am = loadtxt('X_train_combined_3d_am.csv', delimiter=',')\n",
    "X_test_combined_am = loadtxt('X_test_combined_3d_am.csv', delimiter=',')\n",
    "y_train_combined_am = loadtxt('y_train_combined_3d_am.csv', delimiter=',')\n",
    "y_test_combined_am = loadtxt('y_test_combined_3d_am.csv', delimiter=',')"
   ]
  },
  {
   "cell_type": "markdown",
   "id": "2b48898d",
   "metadata": {},
   "source": [
    "## Import model"
   ]
  },
  {
   "cell_type": "code",
   "execution_count": 3,
   "id": "0e3637f6",
   "metadata": {},
   "outputs": [],
   "source": [
    "filename = '3Donly_am_best.sav'\n",
    "loaded_model = pickle.load(open(filename, 'rb'))"
   ]
  },
  {
   "cell_type": "markdown",
   "id": "c962bbea",
   "metadata": {},
   "source": [
    "## Get test set predictions"
   ]
  },
  {
   "cell_type": "code",
   "execution_count": 4,
   "id": "2aae0362",
   "metadata": {},
   "outputs": [],
   "source": [
    "preds = loaded_model.predict(X_test_combined_am)"
   ]
  },
  {
   "cell_type": "markdown",
   "id": "55de85d7",
   "metadata": {},
   "source": [
    "## Give evaluation metrics"
   ]
  },
  {
   "cell_type": "code",
   "execution_count": 5,
   "id": "ffed9d7b",
   "metadata": {},
   "outputs": [
    {
     "name": "stdout",
     "output_type": "stream",
     "text": [
      "MAPE: 0.16481970459241027\n",
      "===\n",
      "MAE: 0.0185723166522166\n",
      "===\n",
      "R2: 0.9845270280437816\n"
     ]
    }
   ],
   "source": [
    "mape = mean_absolute_percentage_error(y_test_combined_am,preds)\n",
    "mae = mean_absolute_error(y_test_combined_am,preds)\n",
    "r2 = r2_score(y_test_combined_am,preds)\n",
    "\n",
    "print(\"MAPE:\", mape)\n",
    "print(\"===\")\n",
    "print(\"MAE:\", mae)\n",
    "print(\"===\")\n",
    "print(\"R2:\", r2)"
   ]
  }
 ],
 "metadata": {
  "kernelspec": {
   "display_name": "Python 3",
   "language": "python",
   "name": "python3"
  },
  "language_info": {
   "codemirror_mode": {
    "name": "ipython",
    "version": 3
   },
   "file_extension": ".py",
   "mimetype": "text/x-python",
   "name": "python",
   "nbconvert_exporter": "python",
   "pygments_lexer": "ipython3",
   "version": "3.6.13"
  }
 },
 "nbformat": 4,
 "nbformat_minor": 5
}
